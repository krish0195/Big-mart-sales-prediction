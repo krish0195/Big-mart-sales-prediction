{
 "cells": [
  {
   "cell_type": "code",
   "execution_count": 87,
   "metadata": {
    "ExecuteTime": {
     "end_time": "2022-11-10T08:34:00.549131Z",
     "start_time": "2022-11-10T08:34:00.411056Z"
    }
   },
   "outputs": [],
   "source": [
    "# import required libraries\n",
    "import pandas as pd\n",
    "import numpy as np\n",
    "import matplotlib.pyplot as plt\n",
    "%matplotlib inline\n",
    "from sklearn.model_selection import train_test_split\n",
    "from sklearn.ensemble import RandomForestRegressor\n",
    "from sklearn.metrics import mean_squared_error\n",
    "from sklearn.decomposition import FactorAnalysis\n",
    "import seaborn as sns\n",
    "import warnings\n",
    "warnings.filterwarnings(\"ignore\")"
   ]
  },
  {
   "cell_type": "code",
   "execution_count": 88,
   "metadata": {
    "ExecuteTime": {
     "end_time": "2022-11-10T08:34:00.989035Z",
     "start_time": "2022-11-10T08:34:00.553129Z"
    }
   },
   "outputs": [],
   "source": [
    "# read the data\n",
    "train=pd.read_csv(r\"E:\\data science\\analytics vidya\\practice dataset\\big mart sales prediction\\train_v9rqX0R.csv\")\n",
    "test=pd.read_csv(r\"E:\\data science\\analytics vidya\\practice dataset\\big mart sales prediction\\test_AbJTz2l.csv\")"
   ]
  },
  {
   "cell_type": "code",
   "execution_count": 89,
   "metadata": {
    "ExecuteTime": {
     "end_time": "2022-11-10T08:34:01.001019Z",
     "start_time": "2022-11-10T08:34:00.989035Z"
    }
   },
   "outputs": [],
   "source": [
    "#Exploratory Data Analysis\n",
    "#shape:\n",
    "train.shape,test.shape\n",
    "test2 = test.copy()"
   ]
  },
  {
   "cell_type": "code",
   "execution_count": 90,
   "metadata": {
    "ExecuteTime": {
     "end_time": "2022-11-10T08:34:01.180970Z",
     "start_time": "2022-11-10T08:34:01.005017Z"
    },
    "scrolled": true
   },
   "outputs": [],
   "source": [
    "train['source'] = 'train'\n",
    "test['source'] = 'test'\n",
    "test[\"Item_Outlet_Sales\"]=0\n",
    "data=pd.concat([train,test])"
   ]
  },
  {
   "cell_type": "code",
   "execution_count": 91,
   "metadata": {
    "ExecuteTime": {
     "end_time": "2022-11-10T08:34:01.284944Z",
     "start_time": "2022-11-10T08:34:01.204964Z"
    }
   },
   "outputs": [
    {
     "data": {
      "text/plain": [
       "((8523, 13), (5681, 13), (14204, 13))"
      ]
     },
     "execution_count": 91,
     "metadata": {},
     "output_type": "execute_result"
    }
   ],
   "source": [
    "train.shape,test.shape,data.shape"
   ]
  },
  {
   "cell_type": "code",
   "execution_count": 92,
   "metadata": {
    "ExecuteTime": {
     "end_time": "2022-11-10T08:34:03.804910Z",
     "start_time": "2022-11-10T08:34:01.300942Z"
    }
   },
   "outputs": [
    {
     "data": {
      "text/plain": [
       "<AxesSubplot:ylabel='Frequency'>"
      ]
     },
     "execution_count": 92,
     "metadata": {},
     "output_type": "execute_result"
    },
    {
     "data": {
      "image/png": "[encoded data removed]",
      "text/plain": [
       "<Figure size 432x288 with 1 Axes>"
      ]
     },
     "metadata": {
      "needs_background": "light"
     },
     "output_type": "display_data"
    }
   ],
   "source": [
    "data[\"Item_Outlet_Sales\"].plot(kind=\"hist\")"
   ]
  },
  {
   "cell_type": "code",
   "execution_count": 93,
   "metadata": {
    "ExecuteTime": {
     "end_time": "2022-11-10T08:34:03.854880Z",
     "start_time": "2022-11-10T08:34:03.815902Z"
    }
   },
   "outputs": [
    {
     "name": "stdout",
     "output_type": "stream",
     "text": [
      "2.4181654482479065\n",
      "1.5445207410133672\n"
     ]
    }
   ],
   "source": [
    "from scipy.stats import kurtosis\n",
    "from scipy.stats import skew\n",
    "print(kurtosis(data[\"Item_Outlet_Sales\"], axis=0, bias=True))\n",
    "print(skew(data[\"Item_Outlet_Sales\"], axis=0, bias=True))"
   ]
  },
  {
   "cell_type": "code",
   "execution_count": 94,
   "metadata": {
    "ExecuteTime": {
     "end_time": "2022-11-10T08:34:04.005794Z",
     "start_time": "2022-11-10T08:34:03.858877Z"
    }
   },
   "outputs": [
    {
     "data": {
      "text/plain": [
       "Item_Identifier                 0\n",
       "Item_Weight                  2439\n",
       "Item_Fat_Content                0\n",
       "Item_Visibility                 0\n",
       "Item_Type                       0\n",
       "Item_MRP                        0\n",
       "Outlet_Identifier               0\n",
       "Outlet_Establishment_Year       0\n",
       "Outlet_Size                  4016\n",
       "Outlet_Location_Type            0\n",
       "Outlet_Type                     0\n",
       "Item_Outlet_Sales               0\n",
       "source                          0\n",
       "dtype: int64"
      ]
     },
     "execution_count": 94,
     "metadata": {},
     "output_type": "execute_result"
    }
   ],
   "source": [
    "data.isnull().sum()"
   ]
  },
  {
   "cell_type": "code",
   "execution_count": 95,
   "metadata": {
    "ExecuteTime": {
     "end_time": "2022-11-10T08:34:04.109735Z",
     "start_time": "2022-11-10T08:34:04.011790Z"
    }
   },
   "outputs": [],
   "source": [
    "#categorical columns\n",
    "cat=data.select_dtypes(include=[\"object\"]).columns\n",
    "num=data.select_dtypes(include=[\"int\",\"float\"]).columns"
   ]
  },
  {
   "cell_type": "code",
   "execution_count": 96,
   "metadata": {
    "ExecuteTime": {
     "end_time": "2022-11-10T08:34:04.311620Z",
     "start_time": "2022-11-10T08:34:04.119729Z"
    }
   },
   "outputs": [
    {
     "name": "stdout",
     "output_type": "stream",
     "text": [
      "Item_Identifier 1559\n",
      "Item_Weight 415\n",
      "Item_Fat_Content 5\n",
      "Item_Visibility 13006\n",
      "Item_Type 16\n",
      "Item_MRP 8052\n",
      "Outlet_Identifier 10\n",
      "Outlet_Establishment_Year 9\n",
      "Outlet_Size 3\n",
      "Outlet_Location_Type 3\n",
      "Outlet_Type 4\n",
      "Item_Outlet_Sales 3494\n",
      "source 2\n"
     ]
    }
   ],
   "source": [
    "data.columns\n",
    "for x in data.columns:\n",
    "    print(x,data[x].nunique())"
   ]
  },
  {
   "cell_type": "code",
   "execution_count": 97,
   "metadata": {
    "ExecuteTime": {
     "end_time": "2022-11-10T08:34:04.390574Z",
     "start_time": "2022-11-10T08:34:04.316616Z"
    }
   },
   "outputs": [
    {
     "name": "stdout",
     "output_type": "stream",
     "text": [
      "Item_Identifier 1559 ['FDA15' 'DRC01' 'FDN15' ... 'NCF55' 'NCW30' 'NCW05']\n",
      "Item_Fat_Content 5 ['Low Fat' 'Regular' 'low fat' 'LF' 'reg']\n",
      "Item_Type 16 ['Dairy' 'Soft Drinks' 'Meat' 'Fruits and Vegetables' 'Household'\n",
      " 'Baking Goods' 'Snack Foods' 'Frozen Foods' 'Breakfast'\n",
      " 'Health and Hygiene' 'Hard Drinks' 'Canned' 'Breads' 'Starchy Foods'\n",
      " 'Others' 'Seafood']\n",
      "Outlet_Identifier 10 ['OUT049' 'OUT018' 'OUT010' 'OUT013' 'OUT027' 'OUT045' 'OUT017' 'OUT046'\n",
      " 'OUT035' 'OUT019']\n",
      "Outlet_Size 3 ['Medium' nan 'High' 'Small']\n",
      "Outlet_Location_Type 3 ['Tier 1' 'Tier 3' 'Tier 2']\n",
      "Outlet_Type 4 ['Supermarket Type1' 'Supermarket Type2' 'Grocery Store'\n",
      " 'Supermarket Type3']\n",
      "source 2 ['train' 'test']\n"
     ]
    }
   ],
   "source": [
    "for x in cat:\n",
    "    print(x,data[x].nunique(),data[x].unique())"
   ]
  },
  {
   "cell_type": "code",
   "execution_count": 98,
   "metadata": {
    "ExecuteTime": {
     "end_time": "2022-11-10T08:34:04.457535Z",
     "start_time": "2022-11-10T08:34:04.396570Z"
    }
   },
   "outputs": [
    {
     "name": "stdout",
     "output_type": "stream",
     "text": [
      "Item_Weight    0.17\n",
      "Outlet_Size    0.28\n",
      "dtype: float64\n"
     ]
    }
   ],
   "source": [
    "print(round(data[[\"Item_Weight\",\"Outlet_Size\"]].isnull().sum()/len(data.index),2))"
   ]
  },
  {
   "cell_type": "code",
   "execution_count": 99,
   "metadata": {
    "ExecuteTime": {
     "end_time": "2022-11-10T08:34:04.595457Z",
     "start_time": "2022-11-10T08:34:04.464550Z"
    }
   },
   "outputs": [],
   "source": [
    "data[\"Item_Weight\"]=data[\"Item_Weight\"].fillna(value=data[\"Item_Weight\"].mean())\n",
    "data[\"Outlet_Size\"].replace(np.nan,data[\"Outlet_Size\"].mode()[0],inplace=True)"
   ]
  },
  {
   "cell_type": "code",
   "execution_count": 100,
   "metadata": {
    "ExecuteTime": {
     "end_time": "2022-11-10T08:34:05.750792Z",
     "start_time": "2022-11-10T08:34:04.603450Z"
    }
   },
   "outputs": [
    {
     "data": {
      "text/plain": [
       "<AxesSubplot:xlabel='Item_Visibility', ylabel='Count'>"
      ]
     },
     "execution_count": 100,
     "metadata": {},
     "output_type": "execute_result"
    },
    {
     "data": {
      "image/png": "[encoded data removed]",
      "text/plain": [
       "<Figure size 432x288 with 1 Axes>"
      ]
     },
     "metadata": {
      "needs_background": "light"
     },
     "output_type": "display_data"
    }
   ],
   "source": [
    "sns.histplot(data[\"Item_Visibility\"],bins=10)"
   ]
  },
  {
   "cell_type": "code",
   "execution_count": 101,
   "metadata": {
    "ExecuteTime": {
     "end_time": "2022-11-10T08:34:05.775778Z",
     "start_time": "2022-11-10T08:34:05.757787Z"
    }
   },
   "outputs": [
    {
     "data": {
      "text/plain": [
       "879"
      ]
     },
     "execution_count": 101,
     "metadata": {},
     "output_type": "execute_result"
    }
   ],
   "source": [
    "data[data[\"Item_Visibility\"]==0][\"Item_Visibility\"].count()"
   ]
  },
  {
   "cell_type": "code",
   "execution_count": 102,
   "metadata": {
    "ExecuteTime": {
     "end_time": "2022-11-10T08:34:05.907701Z",
     "start_time": "2022-11-10T08:34:05.783773Z"
    }
   },
   "outputs": [],
   "source": [
    "data[\"Item_Visibility\"].replace(0,data[\"Item_Visibility\"].mean(),inplace=True)"
   ]
  },
  {
   "cell_type": "code",
   "execution_count": 103,
   "metadata": {
    "ExecuteTime": {
     "end_time": "2022-11-10T08:34:06.085601Z",
     "start_time": "2022-11-10T08:34:05.923694Z"
    }
   },
   "outputs": [
    {
     "data": {
      "text/plain": [
       "Food               10201\n",
       "Non-Consumables     2686\n",
       "Drinks              1317\n",
       "Name: Item_Type_Combined, dtype: int64"
      ]
     },
     "execution_count": 103,
     "metadata": {},
     "output_type": "execute_result"
    }
   ],
   "source": [
    "data[\"Item_Type_Combined\"]=data[\"Item_Identifier\"].apply(lambda x:x[0:2])\n",
    "data[\"Item_Type_Combined\"]=data[\"Item_Type_Combined\"].map({\"FD\":\"Food\",\"DR\":\"Drinks\",\"NC\":\"Non-Consumables\"})\n",
    "data[\"Item_Type_Combined\"].value_counts()"
   ]
  },
  {
   "cell_type": "code",
   "execution_count": 104,
   "metadata": {
    "ExecuteTime": {
     "end_time": "2022-11-10T08:34:06.146564Z",
     "start_time": "2022-11-10T08:34:06.090598Z"
    }
   },
   "outputs": [],
   "source": [
    "data[\"Item_Fat_Content\"]=data[\"Item_Fat_Content\"].replace({'LF':'Low Fat','reg':'Regular','low fat':'Low Fat'})"
   ]
  },
  {
   "cell_type": "code",
   "execution_count": 105,
   "metadata": {
    "ExecuteTime": {
     "end_time": "2022-11-10T08:34:06.687281Z",
     "start_time": "2022-11-10T08:34:06.151561Z"
    }
   },
   "outputs": [
    {
     "data": {
      "text/plain": [
       "<AxesSubplot:xlabel='Outlet_Establishment_Year'>"
      ]
     },
     "execution_count": 105,
     "metadata": {},
     "output_type": "execute_result"
    },
    {
     "data": {
      "image/png": "[encoded data removed]",
      "text/plain": [
       "<Figure size 432x288 with 1 Axes>"
      ]
     },
     "metadata": {
      "needs_background": "light"
     },
     "output_type": "display_data"
    }
   ],
   "source": [
    "data.groupby(\"Outlet_Establishment_Year\")[\"Item_Outlet_Sales\"].mean().plot(kind=\"bar\")"
   ]
  },
  {
   "cell_type": "code",
   "execution_count": 106,
   "metadata": {
    "ExecuteTime": {
     "end_time": "2022-11-10T08:34:06.751244Z",
     "start_time": "2022-11-10T08:34:06.691280Z"
    }
   },
   "outputs": [
    {
     "data": {
      "text/plain": [
       "count    14204.000000\n",
       "mean        11.169319\n",
       "std          8.371664\n",
       "min          0.000000\n",
       "25%          5.000000\n",
       "50%         10.000000\n",
       "75%         22.000000\n",
       "max         24.000000\n",
       "Name: Outlet_Years, dtype: float64"
      ]
     },
     "execution_count": 106,
     "metadata": {},
     "output_type": "execute_result"
    }
   ],
   "source": [
    "data['Outlet_Years'] = 2009 - data['Outlet_Establishment_Year']\n",
    "data['Outlet_Years'].describe()\n"
   ]
  },
  {
   "cell_type": "code",
   "execution_count": 107,
   "metadata": {
    "ExecuteTime": {
     "end_time": "2022-11-10T08:34:07.432868Z",
     "start_time": "2022-11-10T08:34:06.756242Z"
    }
   },
   "outputs": [
    {
     "data": {
      "text/plain": [
       "<AxesSubplot:xlabel='Outlet_Years', ylabel='Item_Outlet_Sales'>"
      ]
     },
     "execution_count": 107,
     "metadata": {},
     "output_type": "execute_result"
    },
    {
     "data": {
      "image/png": "[encoded data removed]",
      "text/plain": [
       "<Figure size 432x288 with 1 Axes>"
      ]
     },
     "metadata": {
      "needs_background": "light"
     },
     "output_type": "display_data"
    }
   ],
   "source": [
    "sns.boxplot(x=\"Outlet_Years\",y=\"Item_Outlet_Sales\",data=data)"
   ]
  },
  {
   "cell_type": "code",
   "execution_count": 108,
   "metadata": {
    "ExecuteTime": {
     "end_time": "2022-11-10T08:34:08.609291Z",
     "start_time": "2022-11-10T08:34:07.435853Z"
    }
   },
   "outputs": [
    {
     "data": {
      "text/plain": [
       "<AxesSubplot:>"
      ]
     },
     "execution_count": 108,
     "metadata": {},
     "output_type": "execute_result"
    },
    {
     "data": {
      "image/png": "[encoded data removed]",
      "text/plain": [
       "<Figure size 432x288 with 2 Axes>"
      ]
     },
     "metadata": {
      "needs_background": "light"
     },
     "output_type": "display_data"
    }
   ],
   "source": [
    "sns.heatmap(data.corr(),annot=True,cmap=\"plasma\",vmin=-1,vmax=1)\n"
   ]
  },
  {
   "cell_type": "code",
   "execution_count": 109,
   "metadata": {
    "ExecuteTime": {
     "end_time": "2022-11-10T08:34:08.826165Z",
     "start_time": "2022-11-10T08:34:08.615287Z"
    }
   },
   "outputs": [],
   "source": [
    "from sklearn.preprocessing import LabelEncoder\n",
    "le = LabelEncoder()\n",
    "data['Outlet'] = le.fit_transform(data['Outlet_Identifier'])\n",
    "data['Item_Fat_Content'] = le.fit_transform(data['Item_Fat_Content'])\n",
    "data['Item_Type'] = le.fit_transform(data['Item_Type'])\n",
    "data['Outlet_Size'] = le.fit_transform(data['Outlet_Size'])\n",
    "data['Outlet_Location_Type'] = le.fit_transform(data['Outlet_Location_Type'])\n",
    "data['Outlet_Type'] = le.fit_transform(data['Outlet_Type'])\n",
    "data['Item_Type_Combined'] = le.fit_transform(data['Item_Type_Combined'])"
   ]
  },
  {
   "cell_type": "code",
   "execution_count": 110,
   "metadata": {
    "ExecuteTime": {
     "end_time": "2022-11-10T08:34:08.897155Z",
     "start_time": "2022-11-10T08:34:08.834161Z"
    }
   },
   "outputs": [
    {
     "data": {
      "text/plain": [
       "1    10201\n",
       "2     2686\n",
       "0     1317\n",
       "Name: Item_Type_Combined, dtype: int64"
      ]
     },
     "execution_count": 110,
     "metadata": {},
     "output_type": "execute_result"
    }
   ],
   "source": [
    "data['Outlet'].value_counts()\n",
    "data['Item_Fat_Content'].value_counts()\n",
    "data['Outlet_Location_Type'].value_counts()\n",
    "data['Item_Type_Combined'].value_counts()"
   ]
  },
  {
   "cell_type": "code",
   "execution_count": 111,
   "metadata": {
    "ExecuteTime": {
     "end_time": "2022-11-10T08:34:09.004061Z",
     "start_time": "2022-11-10T08:34:08.902121Z"
    }
   },
   "outputs": [],
   "source": [
    "data.drop([\"Outlet_Identifier\",\"Item_Identifier\",\"Outlet_Establishment_Year\"],axis=1,inplace=True)"
   ]
  },
  {
   "cell_type": "code",
   "execution_count": 112,
   "metadata": {
    "ExecuteTime": {
     "end_time": "2022-11-10T08:34:09.134986Z",
     "start_time": "2022-11-10T08:34:09.008063Z"
    }
   },
   "outputs": [],
   "source": [
    "data=pd.get_dummies(data,columns=[\"Item_Fat_Content\",\"Outlet_Location_Type\",\"Outlet_Size\",\"Outlet_Type\",\"Item_Type_Combined\",\"Outlet\"])\n"
   ]
  },
  {
   "cell_type": "code",
   "execution_count": 113,
   "metadata": {
    "ExecuteTime": {
     "end_time": "2022-11-10T08:34:09.238928Z",
     "start_time": "2022-11-10T08:34:09.138987Z"
    }
   },
   "outputs": [
    {
     "data": {
      "text/html": [
       "<div>\n",
       "<style scoped>\n",
       "    .dataframe tbody tr th:only-of-type {\n",
       "        vertical-align: middle;\n",
       "    }\n",
       "\n",
       "    .dataframe tbody tr th {\n",
       "        vertical-align: top;\n",
       "    }\n",
       "\n",
       "    .dataframe thead th {\n",
       "        text-align: right;\n",
       "    }\n",
       "</style>\n",
       "<table border=\"1\" class=\"dataframe\">\n",
       "  <thead>\n",
       "    <tr style=\"text-align: right;\">\n",
       "      <th></th>\n",
       "      <th>Item_Weight</th>\n",
       "      <th>Item_Visibility</th>\n",
       "      <th>Item_Type</th>\n",
       "      <th>Item_MRP</th>\n",
       "      <th>Item_Outlet_Sales</th>\n",
       "      <th>source</th>\n",
       "      <th>Outlet_Years</th>\n",
       "      <th>Item_Fat_Content_0</th>\n",
       "      <th>Item_Fat_Content_1</th>\n",
       "      <th>Outlet_Location_Type_0</th>\n",
       "      <th>...</th>\n",
       "      <th>Outlet_0</th>\n",
       "      <th>Outlet_1</th>\n",
       "      <th>Outlet_2</th>\n",
       "      <th>Outlet_3</th>\n",
       "      <th>Outlet_4</th>\n",
       "      <th>Outlet_5</th>\n",
       "      <th>Outlet_6</th>\n",
       "      <th>Outlet_7</th>\n",
       "      <th>Outlet_8</th>\n",
       "      <th>Outlet_9</th>\n",
       "    </tr>\n",
       "  </thead>\n",
       "  <tbody>\n",
       "    <tr>\n",
       "      <th>0</th>\n",
       "      <td>9.30</td>\n",
       "      <td>0.016047</td>\n",
       "      <td>4</td>\n",
       "      <td>249.8092</td>\n",
       "      <td>3735.1380</td>\n",
       "      <td>train</td>\n",
       "      <td>10</td>\n",
       "      <td>1</td>\n",
       "      <td>0</td>\n",
       "      <td>1</td>\n",
       "      <td>...</td>\n",
       "      <td>0</td>\n",
       "      <td>0</td>\n",
       "      <td>0</td>\n",
       "      <td>0</td>\n",
       "      <td>0</td>\n",
       "      <td>0</td>\n",
       "      <td>0</td>\n",
       "      <td>0</td>\n",
       "      <td>0</td>\n",
       "      <td>1</td>\n",
       "    </tr>\n",
       "    <tr>\n",
       "      <th>1</th>\n",
       "      <td>5.92</td>\n",
       "      <td>0.019278</td>\n",
       "      <td>14</td>\n",
       "      <td>48.2692</td>\n",
       "      <td>443.4228</td>\n",
       "      <td>train</td>\n",
       "      <td>0</td>\n",
       "      <td>0</td>\n",
       "      <td>1</td>\n",
       "      <td>0</td>\n",
       "      <td>...</td>\n",
       "      <td>0</td>\n",
       "      <td>0</td>\n",
       "      <td>0</td>\n",
       "      <td>1</td>\n",
       "      <td>0</td>\n",
       "      <td>0</td>\n",
       "      <td>0</td>\n",
       "      <td>0</td>\n",
       "      <td>0</td>\n",
       "      <td>0</td>\n",
       "    </tr>\n",
       "    <tr>\n",
       "      <th>2</th>\n",
       "      <td>17.50</td>\n",
       "      <td>0.016760</td>\n",
       "      <td>10</td>\n",
       "      <td>141.6180</td>\n",
       "      <td>2097.2700</td>\n",
       "      <td>train</td>\n",
       "      <td>10</td>\n",
       "      <td>1</td>\n",
       "      <td>0</td>\n",
       "      <td>1</td>\n",
       "      <td>...</td>\n",
       "      <td>0</td>\n",
       "      <td>0</td>\n",
       "      <td>0</td>\n",
       "      <td>0</td>\n",
       "      <td>0</td>\n",
       "      <td>0</td>\n",
       "      <td>0</td>\n",
       "      <td>0</td>\n",
       "      <td>0</td>\n",
       "      <td>1</td>\n",
       "    </tr>\n",
       "    <tr>\n",
       "      <th>3</th>\n",
       "      <td>19.20</td>\n",
       "      <td>0.065953</td>\n",
       "      <td>6</td>\n",
       "      <td>182.0950</td>\n",
       "      <td>732.3800</td>\n",
       "      <td>train</td>\n",
       "      <td>11</td>\n",
       "      <td>0</td>\n",
       "      <td>1</td>\n",
       "      <td>0</td>\n",
       "      <td>...</td>\n",
       "      <td>1</td>\n",
       "      <td>0</td>\n",
       "      <td>0</td>\n",
       "      <td>0</td>\n",
       "      <td>0</td>\n",
       "      <td>0</td>\n",
       "      <td>0</td>\n",
       "      <td>0</td>\n",
       "      <td>0</td>\n",
       "      <td>0</td>\n",
       "    </tr>\n",
       "    <tr>\n",
       "      <th>4</th>\n",
       "      <td>8.93</td>\n",
       "      <td>0.065953</td>\n",
       "      <td>9</td>\n",
       "      <td>53.8614</td>\n",
       "      <td>994.7052</td>\n",
       "      <td>train</td>\n",
       "      <td>22</td>\n",
       "      <td>1</td>\n",
       "      <td>0</td>\n",
       "      <td>0</td>\n",
       "      <td>...</td>\n",
       "      <td>0</td>\n",
       "      <td>1</td>\n",
       "      <td>0</td>\n",
       "      <td>0</td>\n",
       "      <td>0</td>\n",
       "      <td>0</td>\n",
       "      <td>0</td>\n",
       "      <td>0</td>\n",
       "      <td>0</td>\n",
       "      <td>0</td>\n",
       "    </tr>\n",
       "  </tbody>\n",
       "</table>\n",
       "<p>5 rows × 32 columns</p>\n",
       "</div>"
      ],
      "text/plain": [
       "   Item_Weight  Item_Visibility  Item_Type  Item_MRP  Item_Outlet_Sales  \\\n",
       "0         9.30         0.016047          4  249.8092          3735.1380   \n",
       "1         5.92         0.019278         14   48.2692           443.4228   \n",
       "2        17.50         0.016760         10  141.6180          2097.2700   \n",
       "3        19.20         0.065953          6  182.0950           732.3800   \n",
       "4         8.93         0.065953          9   53.8614           994.7052   \n",
       "\n",
       "  source  Outlet_Years  Item_Fat_Content_0  Item_Fat_Content_1  \\\n",
       "0  train            10                   1                   0   \n",
       "1  train             0                   0                   1   \n",
       "2  train            10                   1                   0   \n",
       "3  train            11                   0                   1   \n",
       "4  train            22                   1                   0   \n",
       "\n",
       "   Outlet_Location_Type_0  ...  Outlet_0  Outlet_1  Outlet_2  Outlet_3  \\\n",
       "0                       1  ...         0         0         0         0   \n",
       "1                       0  ...         0         0         0         1   \n",
       "2                       1  ...         0         0         0         0   \n",
       "3                       0  ...         1         0         0         0   \n",
       "4                       0  ...         0         1         0         0   \n",
       "\n",
       "   Outlet_4  Outlet_5  Outlet_6  Outlet_7  Outlet_8  Outlet_9  \n",
       "0         0         0         0         0         0         1  \n",
       "1         0         0         0         0         0         0  \n",
       "2         0         0         0         0         0         1  \n",
       "3         0         0         0         0         0         0  \n",
       "4         0         0         0         0         0         0  \n",
       "\n",
       "[5 rows x 32 columns]"
      ]
     },
     "execution_count": 113,
     "metadata": {},
     "output_type": "execute_result"
    }
   ],
   "source": [
    "data.head()"
   ]
  },
  {
   "cell_type": "code",
   "execution_count": 114,
   "metadata": {
    "ExecuteTime": {
     "end_time": "2022-11-10T08:34:09.327876Z",
     "start_time": "2022-11-10T08:34:09.254921Z"
    }
   },
   "outputs": [],
   "source": [
    "train=data.loc[data[\"source\"]==\"train\"]\n",
    "test=data.loc[data[\"source\"]==\"test\"]"
   ]
  },
  {
   "cell_type": "code",
   "execution_count": 115,
   "metadata": {
    "ExecuteTime": {
     "end_time": "2022-11-10T08:34:09.405831Z",
     "start_time": "2022-11-10T08:34:09.330875Z"
    }
   },
   "outputs": [],
   "source": [
    "test.drop([\"source\",\"Item_Outlet_Sales\"],axis=1,inplace=True)\n",
    "train.drop([\"source\"],axis=1,inplace=True)"
   ]
  },
  {
   "cell_type": "code",
   "execution_count": 116,
   "metadata": {
    "ExecuteTime": {
     "end_time": "2022-11-10T08:34:09.930547Z",
     "start_time": "2022-11-10T08:34:09.408830Z"
    }
   },
   "outputs": [],
   "source": [
    "train.to_csv(\"train_modified.csv\",index=False)\n",
    "test.to_csv(\"test_modified.csv\",index=False)"
   ]
  },
  {
   "cell_type": "code",
   "execution_count": 117,
   "metadata": {
    "ExecuteTime": {
     "end_time": "2022-11-10T08:34:09.943523Z",
     "start_time": "2022-11-10T08:34:09.932528Z"
    }
   },
   "outputs": [
    {
     "data": {
      "text/plain": [
       "((5681, 30), (8523, 31))"
      ]
     },
     "execution_count": 117,
     "metadata": {},
     "output_type": "execute_result"
    }
   ],
   "source": [
    "test.shape,train.shape"
   ]
  },
  {
   "cell_type": "code",
   "execution_count": 118,
   "metadata": {
    "ExecuteTime": {
     "end_time": "2022-11-10T08:34:10.147405Z",
     "start_time": "2022-11-10T08:34:09.947522Z"
    }
   },
   "outputs": [],
   "source": [
    "from sklearn.preprocessing import MinMaxScaler\n",
    "scalar= MinMaxScaler()\n",
    "\n",
    "cols = train.columns[train.columns != 'Item_Outlet_Sales']\n",
    "train[cols] = scalar.fit_transform(train[cols])\n",
    "\n",
    "cols = test.columns\n",
    "test[cols]=scalar.fit_transform(test[cols])\n"
   ]
  },
  {
   "cell_type": "code",
   "execution_count": 119,
   "metadata": {
    "ExecuteTime": {
     "end_time": "2022-11-10T08:34:10.213370Z",
     "start_time": "2022-11-10T08:34:10.152406Z"
    }
   },
   "outputs": [
    {
     "data": {
      "text/plain": [
       "((6392, 31), (2131, 31))"
      ]
     },
     "execution_count": 119,
     "metadata": {},
     "output_type": "execute_result"
    }
   ],
   "source": [
    "from sklearn.model_selection import train_test_split\n",
    "\n",
    "train, valid = train_test_split(train, random_state=42)\n",
    "\n",
    "train.shape, valid.shape\n"
   ]
  },
  {
   "cell_type": "code",
   "execution_count": 120,
   "metadata": {
    "ExecuteTime": {
     "end_time": "2022-11-10T08:34:10.305317Z",
     "start_time": "2022-11-10T08:34:10.217366Z"
    }
   },
   "outputs": [
    {
     "data": {
      "text/plain": [
       "['Item_Weight',\n",
       " 'Item_Visibility',\n",
       " 'Item_Type',\n",
       " 'Item_MRP',\n",
       " 'Outlet_Years',\n",
       " 'Item_Fat_Content_0',\n",
       " 'Item_Fat_Content_1',\n",
       " 'Outlet_Location_Type_0',\n",
       " 'Outlet_Location_Type_1',\n",
       " 'Outlet_Location_Type_2',\n",
       " 'Outlet_Size_0',\n",
       " 'Outlet_Size_1',\n",
       " 'Outlet_Size_2',\n",
       " 'Outlet_Type_0',\n",
       " 'Outlet_Type_1',\n",
       " 'Outlet_Type_2',\n",
       " 'Outlet_Type_3',\n",
       " 'Item_Type_Combined_0',\n",
       " 'Item_Type_Combined_1',\n",
       " 'Item_Type_Combined_2',\n",
       " 'Outlet_0',\n",
       " 'Outlet_1',\n",
       " 'Outlet_2',\n",
       " 'Outlet_3',\n",
       " 'Outlet_4',\n",
       " 'Outlet_5',\n",
       " 'Outlet_6',\n",
       " 'Outlet_7',\n",
       " 'Outlet_8',\n",
       " 'Outlet_9']"
      ]
     },
     "execution_count": 120,
     "metadata": {},
     "output_type": "execute_result"
    }
   ],
   "source": [
    "features = [c for c in train.columns if c not in ['Item_Identifier', 'Item_Outlet_Sales']]\n",
    "features\n"
   ]
  },
  {
   "cell_type": "code",
   "execution_count": 121,
   "metadata": {
    "ExecuteTime": {
     "end_time": "2022-11-10T08:34:17.342281Z",
     "start_time": "2022-11-10T08:34:10.312349Z"
    }
   },
   "outputs": [
    {
     "name": "stdout",
     "output_type": "stream",
     "text": [
      "1097.0856040160327\n"
     ]
    }
   ],
   "source": [
    "#MODEL 1 - Random Forest Regressor\n",
    "from sklearn import metrics\n",
    "from math import sqrt\n",
    "from sklearn.ensemble import RandomForestRegressor\n",
    "rf_padrao = RandomForestRegressor(n_estimators=200, n_jobs=-1, random_state=42)\n",
    "\n",
    "\n",
    "#Model fit(train x and train y )\n",
    "rf_padrao.fit(train[features], train['Item_Outlet_Sales'])\n",
    "\n",
    "#valid predict\n",
    "preds_rf = rf_padrao.predict(valid[features])\n",
    "\n",
    "#Rmse calculation:\n",
    "rmse_rf = sqrt(metrics.mean_squared_error(valid['Item_Outlet_Sales'], preds_rf))\n",
    "print(rmse_rf)\n",
    "\n",
    "#Test predict\n",
    "preds_rf = rf_padrao.predict(test[features])\n",
    "\n",
    "#Exporta CSV para submissão\n",
    "df_rf = test2[['Item_Identifier','Outlet_Identifier']].copy()\n",
    "df_rf['Item_Outlet_Sales'] = preds_rf\n"
   ]
  },
  {
   "cell_type": "code",
   "execution_count": 122,
   "metadata": {
    "ExecuteTime": {
     "end_time": "2022-11-10T08:34:38.918939Z",
     "start_time": "2022-11-10T08:34:17.353270Z"
    }
   },
   "outputs": [
    {
     "name": "stdout",
     "output_type": "stream",
     "text": [
      "1633.9754080345265\n"
     ]
    }
   ],
   "source": [
    "#MODEL 2- SVM regression\n",
    "\n",
    "from sklearn.svm import SVR\n",
    "svm_padrao=SVR(C=1.0, epsilon=0.2, kernel='rbf')\n",
    "\n",
    "\n",
    "#Model fit(train x and train y )\n",
    "svm_padrao.fit(train[features], train['Item_Outlet_Sales'])\n",
    "\n",
    "#valid predict\n",
    "preds_svm = svm_padrao.predict(valid[features])\n",
    "\n",
    "#Rmse calculation:\n",
    "rmse_svm = sqrt(metrics.mean_squared_error(valid['Item_Outlet_Sales'], preds_svm))\n",
    "print(rmse_svm)\n",
    "\n",
    "#Test predict\n",
    "preds_svm = svm_padrao.predict(test[features])\n",
    "\n",
    "#Exporta CSV para submissão\n",
    "df_svm = test2[['Item_Identifier','Outlet_Identifier']].copy()\n",
    "df_svm['Item_Outlet_Sales'] = preds_svm\n"
   ]
  },
  {
   "cell_type": "code",
   "execution_count": 123,
   "metadata": {
    "ExecuteTime": {
     "end_time": "2022-11-10T08:34:41.886908Z",
     "start_time": "2022-11-10T08:34:38.924891Z"
    }
   },
   "outputs": [
    {
     "name": "stdout",
     "output_type": "stream",
     "text": [
      "1092.4569791649928\n"
     ]
    }
   ],
   "source": [
    "#MODEL 3- XGBRegressor\n",
    "\n",
    "from xgboost import XGBRegressor\n",
    "\n",
    "XGBR_padrao = XGBRegressor(n_estimators=200, learning_rate=0.01, random_state=42, use_label_encoder=True)\n",
    "\n",
    "\n",
    "#Model fit(train x and train y )\n",
    "XGBR_padrao.fit(train[features], train['Item_Outlet_Sales'])\n",
    "\n",
    "#valid predict\n",
    "preds_XGBR = XGBR_padrao.predict(valid[features])\n",
    "\n",
    "#Rmse calculation:\n",
    "rmse_XGBR = sqrt(metrics.mean_squared_error(valid['Item_Outlet_Sales'], preds_XGBR))\n",
    "print(rmse_XGBR)\n",
    "\n",
    "#Test predict\n",
    "preds_XGBR =XGBR_padrao.predict(test[features])\n",
    "\n",
    "#Exporta CSV para submissão\n",
    "df_XGBR = test2[['Item_Identifier','Outlet_Identifier']].copy()\n",
    "df_XGBR['Item_Outlet_Sales'] = preds_XGBR"
   ]
  },
  {
   "cell_type": "code",
   "execution_count": 124,
   "metadata": {
    "ExecuteTime": {
     "end_time": "2022-11-10T08:34:41.913892Z",
     "start_time": "2022-11-10T08:34:41.892905Z"
    }
   },
   "outputs": [
    {
     "data": {
      "text/html": [
       "<div>\n",
       "<style scoped>\n",
       "    .dataframe tbody tr th:only-of-type {\n",
       "        vertical-align: middle;\n",
       "    }\n",
       "\n",
       "    .dataframe tbody tr th {\n",
       "        vertical-align: top;\n",
       "    }\n",
       "\n",
       "    .dataframe thead th {\n",
       "        text-align: right;\n",
       "    }\n",
       "</style>\n",
       "<table border=\"1\" class=\"dataframe\">\n",
       "  <thead>\n",
       "    <tr style=\"text-align: right;\">\n",
       "      <th></th>\n",
       "      <th>Item_Identifier</th>\n",
       "      <th>Outlet_Identifier</th>\n",
       "      <th>Item_Outlet_Sales</th>\n",
       "    </tr>\n",
       "  </thead>\n",
       "  <tbody>\n",
       "  </tbody>\n",
       "</table>\n",
       "</div>"
      ],
      "text/plain": [
       "Empty DataFrame\n",
       "Columns: [Item_Identifier, Outlet_Identifier, Item_Outlet_Sales]\n",
       "Index: []"
      ]
     },
     "execution_count": 124,
     "metadata": {},
     "output_type": "execute_result"
    }
   ],
   "source": [
    "df_XGBR[df_XGBR[\"Item_Outlet_Sales\"]<0]"
   ]
  },
  {
   "cell_type": "code",
   "execution_count": 125,
   "metadata": {
    "ExecuteTime": {
     "end_time": "2022-11-10T08:34:43.566959Z",
     "start_time": "2022-11-10T08:34:41.917889Z"
    }
   },
   "outputs": [
    {
     "name": "stdout",
     "output_type": "stream",
     "text": [
      "1257.1876917889524\n"
     ]
    }
   ],
   "source": [
    "#MODEL 4- AdaBoost\n",
    "\n",
    "from sklearn.ensemble import AdaBoostRegressor\n",
    "\n",
    "# Executando o modelo\n",
    "ada_padrao = AdaBoostRegressor(n_estimators=200, random_state=42)\n",
    "\n",
    "\n",
    "#Model fit(train x and train y )\n",
    "ada_padrao.fit(train[features], train['Item_Outlet_Sales'])\n",
    "\n",
    "#valid predict\n",
    "preds_ada = ada_padrao.predict(valid[features])\n",
    "\n",
    "#Rmse calculation:\n",
    "rmse_ada = sqrt(metrics.mean_squared_error(valid['Item_Outlet_Sales'], preds_ada))\n",
    "print(rmse_ada)\n",
    "\n",
    "#Test predict\n",
    "preds_ada =ada_padrao.predict(test[features])\n",
    "\n",
    "#Exporta CSV para submissão\n",
    "df_ada = test2[['Item_Identifier','Outlet_Identifier']].copy()\n",
    "df_ada['Item_Outlet_Sales'] = preds_ada"
   ]
  },
  {
   "cell_type": "code",
   "execution_count": 138,
   "metadata": {
    "ExecuteTime": {
     "end_time": "2022-11-10T08:44:25.041311Z",
     "start_time": "2022-11-10T08:44:24.998335Z"
    }
   },
   "outputs": [
    {
     "data": {
      "text/html": [
       "<div>\n",
       "<style scoped>\n",
       "    .dataframe tbody tr th:only-of-type {\n",
       "        vertical-align: middle;\n",
       "    }\n",
       "\n",
       "    .dataframe tbody tr th {\n",
       "        vertical-align: top;\n",
       "    }\n",
       "\n",
       "    .dataframe thead th {\n",
       "        text-align: right;\n",
       "    }\n",
       "</style>\n",
       "<table border=\"1\" class=\"dataframe\">\n",
       "  <thead>\n",
       "    <tr style=\"text-align: right;\">\n",
       "      <th></th>\n",
       "      <th>rmse_ada</th>\n",
       "      <th>rmse_XGBR</th>\n",
       "      <th>rmse_svm</th>\n",
       "      <th>rmse_rf</th>\n",
       "    </tr>\n",
       "  </thead>\n",
       "  <tbody>\n",
       "    <tr>\n",
       "      <th>RMSE</th>\n",
       "      <td>1257.0</td>\n",
       "      <td>1092.0</td>\n",
       "      <td>1634.0</td>\n",
       "      <td>1097.085604</td>\n",
       "    </tr>\n",
       "  </tbody>\n",
       "</table>\n",
       "</div>"
      ],
      "text/plain": [
       "      rmse_ada  rmse_XGBR  rmse_svm      rmse_rf\n",
       "RMSE    1257.0     1092.0    1634.0  1097.085604"
      ]
     },
     "execution_count": 138,
     "metadata": {},
     "output_type": "execute_result"
    }
   ],
   "source": [
    "\n",
    "data = pd.DataFrame({\"rmse_ada\":np.round(rmse_ada),\n",
    "                    \"rmse_XGBR\":np.round(rmse_XGBR),\n",
    "                    \"rmse_svm\":np.round(rmse_svm),\n",
    "                    \"rmse_rf\":np.round(rmse_rf)},index=[\"RMSE\"])\n",
    "\n",
    "data"
   ]
  },
  {
   "cell_type": "code",
   "execution_count": 147,
   "metadata": {
    "ExecuteTime": {
     "end_time": "2022-11-10T08:52:54.934736Z",
     "start_time": "2022-11-10T08:52:16.316201Z"
    }
   },
   "outputs": [
    {
     "name": "stdout",
     "output_type": "stream",
     "text": [
      "1122.0853612600497\n"
     ]
    }
   ],
   "source": [
    "\n",
    "from sklearn.ensemble import VotingRegressor\n",
    "\n",
    "#list of regressors\n",
    "estimators = [('rf', rf_padrao),('svm',svm_padrao),('xgbr', XGBR_padrao),('ada',ada_padrao)]\n",
    "\n",
    "# averages the individual predictions to form a final prediction.\n",
    "ensemble1 = VotingRegressor(estimators=estimators, n_jobs=-1)\n",
    "\n",
    "#Model fit(train x and train y )\n",
    "ensemble1.fit(train[features], train['Item_Outlet_Sales'])\n",
    "\n",
    "#valid predict\n",
    "preds_ens = ensemble1.predict(valid[features])\n",
    "\n",
    "#Rmse calculation:\n",
    "rmse_ens = sqrt(metrics.mean_squared_error(valid['Item_Outlet_Sales'], preds_ens))\n",
    "print(rmse_ens)\n",
    "\n",
    "#Test predict\n",
    "preds_ens = ensemble1.predict(test[features])\n",
    "\n",
    "#Exporta CSV para submiss\n",
    "df_ens = test2[['Item_Identifier','Outlet_Identifier']].copy()\n",
    "df_ens['Item_Outlet_Sales'] = preds_ens"
   ]
  },
  {
   "cell_type": "code",
   "execution_count": 149,
   "metadata": {
    "ExecuteTime": {
     "end_time": "2022-11-10T08:58:37.639044Z",
     "start_time": "2022-11-10T08:58:37.623421Z"
    }
   },
   "outputs": [],
   "source": [
    "df_ens[\"Item_Outlet_Sales\"]=df_ens[\"Item_Outlet_Sales\"].round()"
   ]
  },
  {
   "cell_type": "code",
   "execution_count": 150,
   "metadata": {
    "ExecuteTime": {
     "end_time": "2022-11-10T08:58:38.108164Z",
     "start_time": "2022-11-10T08:58:38.008588Z"
    }
   },
   "outputs": [
    {
     "data": {
      "text/html": [
       "<div>\n",
       "<style scoped>\n",
       "    .dataframe tbody tr th:only-of-type {\n",
       "        vertical-align: middle;\n",
       "    }\n",
       "\n",
       "    .dataframe tbody tr th {\n",
       "        vertical-align: top;\n",
       "    }\n",
       "\n",
       "    .dataframe thead th {\n",
       "        text-align: right;\n",
       "    }\n",
       "</style>\n",
       "<table border=\"1\" class=\"dataframe\">\n",
       "  <thead>\n",
       "    <tr style=\"text-align: right;\">\n",
       "      <th></th>\n",
       "      <th>Item_Identifier</th>\n",
       "      <th>Outlet_Identifier</th>\n",
       "      <th>Item_Outlet_Sales</th>\n",
       "    </tr>\n",
       "  </thead>\n",
       "  <tbody>\n",
       "    <tr>\n",
       "      <th>0</th>\n",
       "      <td>FDW58</td>\n",
       "      <td>OUT049</td>\n",
       "      <td>1656.0</td>\n",
       "    </tr>\n",
       "    <tr>\n",
       "      <th>1</th>\n",
       "      <td>FDW14</td>\n",
       "      <td>OUT017</td>\n",
       "      <td>1572.0</td>\n",
       "    </tr>\n",
       "    <tr>\n",
       "      <th>2</th>\n",
       "      <td>NCN55</td>\n",
       "      <td>OUT010</td>\n",
       "      <td>1219.0</td>\n",
       "    </tr>\n",
       "    <tr>\n",
       "      <th>3</th>\n",
       "      <td>FDQ58</td>\n",
       "      <td>OUT017</td>\n",
       "      <td>2381.0</td>\n",
       "    </tr>\n",
       "    <tr>\n",
       "      <th>4</th>\n",
       "      <td>FDY38</td>\n",
       "      <td>OUT027</td>\n",
       "      <td>4895.0</td>\n",
       "    </tr>\n",
       "    <tr>\n",
       "      <th>...</th>\n",
       "      <td>...</td>\n",
       "      <td>...</td>\n",
       "      <td>...</td>\n",
       "    </tr>\n",
       "    <tr>\n",
       "      <th>5676</th>\n",
       "      <td>FDB58</td>\n",
       "      <td>OUT046</td>\n",
       "      <td>2081.0</td>\n",
       "    </tr>\n",
       "    <tr>\n",
       "      <th>5677</th>\n",
       "      <td>FDD47</td>\n",
       "      <td>OUT018</td>\n",
       "      <td>2543.0</td>\n",
       "    </tr>\n",
       "    <tr>\n",
       "      <th>5678</th>\n",
       "      <td>NCO17</td>\n",
       "      <td>OUT045</td>\n",
       "      <td>1909.0</td>\n",
       "    </tr>\n",
       "    <tr>\n",
       "      <th>5679</th>\n",
       "      <td>FDJ26</td>\n",
       "      <td>OUT017</td>\n",
       "      <td>3208.0</td>\n",
       "    </tr>\n",
       "    <tr>\n",
       "      <th>5680</th>\n",
       "      <td>FDU37</td>\n",
       "      <td>OUT045</td>\n",
       "      <td>1483.0</td>\n",
       "    </tr>\n",
       "  </tbody>\n",
       "</table>\n",
       "<p>5681 rows × 3 columns</p>\n",
       "</div>"
      ],
      "text/plain": [
       "     Item_Identifier Outlet_Identifier  Item_Outlet_Sales\n",
       "0              FDW58            OUT049             1656.0\n",
       "1              FDW14            OUT017             1572.0\n",
       "2              NCN55            OUT010             1219.0\n",
       "3              FDQ58            OUT017             2381.0\n",
       "4              FDY38            OUT027             4895.0\n",
       "...              ...               ...                ...\n",
       "5676           FDB58            OUT046             2081.0\n",
       "5677           FDD47            OUT018             2543.0\n",
       "5678           NCO17            OUT045             1909.0\n",
       "5679           FDJ26            OUT017             3208.0\n",
       "5680           FDU37            OUT045             1483.0\n",
       "\n",
       "[5681 rows x 3 columns]"
      ]
     },
     "execution_count": 150,
     "metadata": {},
     "output_type": "execute_result"
    }
   ],
   "source": [
    "df_ens"
   ]
  },
  {
   "cell_type": "code",
   "execution_count": 151,
   "metadata": {
    "ExecuteTime": {
     "end_time": "2022-11-10T08:59:19.524282Z",
     "start_time": "2022-11-10T08:59:19.181396Z"
    }
   },
   "outputs": [],
   "source": [
    "df_ens.to_csv('submission2_Big_mart.csv',index=False)"
   ]
  }
 ],
 "metadata": {
  "kernelspec": {
   "display_name": "Python 3 (ipykernel)",
   "language": "python",
   "name": "python3"
  },
  "language_info": {
   "codemirror_mode": {
    "name": "ipython",
    "version": 3
   },
   "file_extension": ".py",
   "mimetype": "text/x-python",
   "name": "python",
   "nbconvert_exporter": "python",
   "pygments_lexer": "ipython3",
   "version": "3.9.7"
  },
  "latex_envs": {
   "LaTeX_envs_menu_present": true,
   "autoclose": false,
   "autocomplete": true,
   "bibliofile": "biblio.bib",
   "cite_by": "apalike",
   "current_citInitial": 1,
   "eqLabelWithNumbers": true,
   "eqNumInitial": 1,
   "hotkeys": {
    "equation": "Ctrl-E",
    "itemize": "Ctrl-I"
   },
   "labels_anchors": false,
   "latex_user_defs": false,
   "report_style_numbering": false,
   "user_envs_cfg": false
  },
  "varInspector": {
   "cols": {
    "lenName": 16,
    "lenType": 16,
    "lenVar": 40
   },
   "kernels_config": {
    "python": {
     "delete_cmd_postfix": "",
     "delete_cmd_prefix": "del ",
     "library": "var_list.py",
     "varRefreshCmd": "print(var_dic_list())"
    },
    "r": {
     "delete_cmd_postfix": ") ",
     "delete_cmd_prefix": "rm(",
     "library": "var_list.r",
     "varRefreshCmd": "cat(var_dic_list()) "
    }
   },
   "types_to_exclude": [
    "module",
    "function",
    "builtin_function_or_method",
    "instance",
    "_Feature"
   ],
   "window_display": false
  }
 },
 "nbformat": 4,
 "nbformat_minor": 2
}
